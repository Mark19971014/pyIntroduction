{
 "cells": [
  {
   "cell_type": "markdown",
   "metadata": {},
   "source": [
    "# Creating Code with Python\n",
    "\n",
    "- **VS Code** is a special type of text editor that is called a compiler. At the top, you’ll notice a text editor. At the bottom, you will see a terminal where you can execute commands.\n",
    "- In the terminal, you can execute `code hello.py` to start coding.\n",
    "- In the text editor above, you can type `print(\"hello, world\")`. This is a famous canonical program that nearly all coders write during their learning process.\n",
    "- In the terminal window, you can execute commands. To run this program, you are going to need to move your cursor to the bottom of the screen, clicking in the terminal window. You can now type a second command in the terminal window. Next to the dollar sign, type `python hello.py` and press the enter key on your keyboard.\n",
    "- Recall that computers really only understand zeros and ones. Therefore, when you run `python hello.py`, python will interpret the text that you created in `hello.py` and translate it into the zeros and ones that the computer can understand.\n",
    "- The result of running the `python hello.py` program is `hello, world`.\n",
    "- Congrats! You just created your first program.\n"
   ]
  },
  {
   "cell_type": "markdown",
   "metadata": {},
   "source": [
    "# Functions\n",
    "\n",
    "- Functions are verbs or actions that the computer or computer language will already know how to perform.\n",
    "- In your `hello.py` program, the `print` function knows how to print to the terminal window.\n",
    "- The `print` function takes arguments. In this case, `\"hello, world\"` are the arguments that the `print` function takes.\n"
   ]
  },
  {
   "cell_type": "code",
   "execution_count": 1,
   "metadata": {},
   "outputs": [
    {
     "name": "stdout",
     "output_type": "stream",
     "text": [
      "hello world\n"
     ]
    }
   ],
   "source": [
    "print(\"hello world\")\n"
   ]
  },
  {
   "cell_type": "code",
   "execution_count": 2,
   "metadata": {},
   "outputs": [
    {
     "name": "stdout",
     "output_type": "stream",
     "text": [
      "2\n"
     ]
    }
   ],
   "source": [
    "sad = 1 \n",
    "print (1 + sad)"
   ]
  },
  {
   "cell_type": "markdown",
   "metadata": {},
   "source": [
    "# Bugs\n",
    "\n",
    "- Bugs are a natural part of coding. These are mistakes, problems for you to solve! Don’t get discouraged! This is part of the process of becoming a great programmer.\n",
    "- Imagine in our `hello.py` program that accidentally typed `print(\"hello, world\"` notice that we missed the final `)` required by the compiler. If I purposefully make this mistake, the compiler will output an error in the terminal window!\n",
    "- Often, the error messages will inform you of your mistakes and provide you clues on how to fix them. However, there will be many times when the compiler is not this kind.\n"
   ]
  },
  {
   "cell_type": "code",
   "execution_count": null,
   "metadata": {},
   "outputs": [],
   "source": [
    "# BUG1 : NameError\n",
    "print(1 + sad)"
   ]
  },
  {
   "cell_type": "code",
   "execution_count": 15,
   "metadata": {},
   "outputs": [
    {
     "name": "stdout",
     "output_type": "stream",
     "text": [
      "2\n",
      "hellojunhaoxiaohuan\n",
      "hellojunhaoxiaohuan\n"
     ]
    }
   ],
   "source": [
    "# BUG2 : TypeError \n",
    "# int + str \n",
    "# print(1 + \"sad\") \n",
    "#single line comment \n",
    "#mutiple line comment\n",
    "\n",
    "\"\"\"\"\n",
    "今天我们三个人一起学习python\n",
    "大家都很认真\n",
    "作为老师，我很高兴\n",
    "\"\"\"\n",
    "\n",
    "#solution 1 \n",
    "#int + int \n",
    "sad = 1\n",
    "print(1 + sad)  # print(1 + 1)\n",
    "\n",
    "#solution 2 \n",
    "#str + str \n",
    "print(\"hello\" + \"junhao\" + \"xiaohuan\")\n",
    "\n",
    "#optioal solution with variable \n",
    "name1 = \"junhao\"\n",
    "name2 = \"xiaohuan\"\n",
    "print(\"hello\" + name1 + name2)"
   ]
  },
  {
   "cell_type": "markdown",
   "metadata": {},
   "source": [
    "# Improving Your First Python Program\n",
    "\n",
    "- We can personalize your first Python program.\n",
    "- In our text editor in `hello.py` we can add another function. `input` is a function that takes a prompt as an argument. We can edit our code to say\n",
    "\n",
    "```python\n",
    "  input(\"What's your name? \")\n",
    "  print(\"hello, world\")\n",
    "```"
   ]
  },
  {
   "cell_type": "code",
   "execution_count": 11,
   "metadata": {},
   "outputs": [
    {
     "data": {
      "text/plain": [
       "'18'"
      ]
     },
     "execution_count": 11,
     "metadata": {},
     "output_type": "execute_result"
    }
   ],
   "source": [
    "input(\"what's your age\")"
   ]
  },
  {
   "cell_type": "markdown",
   "metadata": {},
   "source": [
    "# Variables\n",
    "\n",
    "- A variable is just a container for a value within your own program.\n",
    "- In your program, you can introduce your own variable in your program by editing it to read\n",
    "\n",
    "  ```python\n",
    "  name = input(\"What's your name? \")\n",
    "  print(\"hello, world\")\n",
    "  ```\n"
   ]
  },
  {
   "cell_type": "code",
   "execution_count": 12,
   "metadata": {},
   "outputs": [
    {
     "name": "stdout",
     "output_type": "stream",
     "text": [
      "junhao\n"
     ]
    }
   ],
   "source": [
    "name = input(\"what' your name\")\n",
    "print(name)"
   ]
  },
  {
   "cell_type": "markdown",
   "metadata": {},
   "source": [
    "# Comments\n",
    "\n",
    "- Comments are a way for programmers to track what they are doing in their programs and even inform others about their intentions for a block of code. In short, they are notes for yourself and others who will see your code!\n",
    "- You can add comments to your program to be able to see what it is that your program is doing. You might edit your code as follows:\n",
    "\n",
    "  ```python\n",
    "  # Ask the user for their name\n",
    "  name = input(\"What's your name? \")\n",
    "  print(\"hello,\")\n",
    "  print(name)\n",
    "  \"\"\"\n",
    "  this is comment1 \n",
    "  this is comment2 \n",
    "  \"\"\"\n",
    "  ```"
   ]
  },
  {
   "cell_type": "markdown",
   "metadata": {},
   "source": [
    "# Further Improving Your First Python Program\n",
    "\n",
    "- We can further edit our code as follows:\n",
    "\n",
    "  ```python\n",
    "  # Ask the user for their name\n",
    "  name = input(\"What's your name? \")\n",
    "\n",
    "  # Print hello and the inputted name\n",
    "  print(\"hello, \" + name)\n",
    "  ```\n",
    "  \n",
    "\n",
    "- It turns out that some functions take many arguments.\n",
    "- We can use a comma , to pass in multiple arguments by editing our code as follows:\n",
    "```python\n",
    "  # Ask the user for their name\n",
    "  name = input(\"What's your name? \")\n",
    "\n",
    "  # Print hello and the inputted name\n",
    "  print(\"hello, \" , name)\n",
    "```\n"
   ]
  },
  {
   "cell_type": "code",
   "execution_count": 21,
   "metadata": {},
   "outputs": [
    {
     "name": "stdout",
     "output_type": "stream",
     "text": [
      "hello, 1\n"
     ]
    }
   ],
   "source": [
    "#Requires manual type conversion and concatenates without any automatic spaces.\n",
    "name = input(1)\n",
    "\n",
    "print(\"hello, \" + name)\n",
    "print(\"hello,\" + 1)\n"
   ]
  },
  {
   "cell_type": "code",
   "execution_count": 24,
   "metadata": {},
   "outputs": [
    {
     "name": "stdout",
     "output_type": "stream",
     "text": [
      "hello,  12\n",
      "heelo,  1\n"
     ]
    }
   ],
   "source": [
    "#Automatically handles spaces between multiple arguments and works with mixed data types.\n",
    "\n",
    "name = input(\"What's your name\")\n",
    "print(\"hello, \" , name)\n",
    "print(\"hello, \",1)"
   ]
  },
  {
   "cell_type": "markdown",
   "metadata": {},
   "source": [
    "# Formatting Strings\n",
    "\n",
    "- Probably the most elegant way to use strings would be as follows:\n",
    "\n",
    "  ```python\n",
    "  # Ask the user for their name\n",
    "  name = input(\"What's your name? \")\n",
    "  print(f\"hello, {name}\")\n",
    "  ```\n",
    "The f in f\"hello, {name}\" is a prefix used in Python to create f-strings, which stands for formatted string literals. F-strings allow you to embed expressions inside curly braces {} directly within a string, making it easy to format and include variables or expressions within a string.\n",
    "  ```python\n",
    "  name = \"Alice\"\n",
    "  age = 25\n",
    "  print(f\"Hello, {name}. You are {age} years old.\")\n",
    "  ```\n"
   ]
  },
  {
   "cell_type": "code",
   "execution_count": 26,
   "metadata": {},
   "outputs": [
    {
     "name": "stdout",
     "output_type": "stream",
     "text": [
      "Hello, Mark. You are 27 years old\n"
     ]
    }
   ],
   "source": [
    "name = \"Mark\"\n",
    "age = 27\n",
    "print(f\"Hello, {name}. You are {age} years old\")"
   ]
  },
  {
   "cell_type": "code",
   "execution_count": 28,
   "metadata": {},
   "outputs": [
    {
     "name": "stdout",
     "output_type": "stream",
     "text": [
      "hello, junhao, You are 18 years old\n"
     ]
    }
   ],
   "source": [
    "name = input(\"What's your name? \")\n",
    "age = input(\"what's your age\")\n",
    "print(f\"hello, {name}, You are {age} years old\")\n"
   ]
  },
  {
   "cell_type": "markdown",
   "metadata": {},
   "source": [
    "# More on Strings\n",
    "\n",
    "- You should never expect your user to cooperate as intended. Therefore, you will need to ensure that the input of your user is corrected or checked.\n",
    "- It turns out that built into strings is the ability to remove whitespace from a string.\n",
    "- By utilizing the method strip on name as name = name.strip(), will strip all the whitespaces on the left and right of the users input. You can modify your code to be:\n",
    "\n",
    "\n",
    "  ```python\n",
    "  # Ask the user for their name\n",
    "  # Ask the user for their name\n",
    "  name = input(\"What's your name? \")\n",
    "  # Remove whitespace from the str\n",
    "  name = name.strip()\n",
    "  # Print the output\n",
    "  print(f\"hello, {name}\")\n",
    "  ```\n",
    "\n",
    "Rerunning this program, regardless of how many spaces you type before or after the name, it will strip off all the whitespace.\n",
    "\n",
    "- Using the title method, it would title case the user’s name:\n",
    "\n",
    "   ```python\n",
    "  # Ask the user for their name\n",
    "  name = input(\"What's your name? \")\n",
    "  # Remove whitespace from the str\n",
    "  name = name.strip()\n",
    "  # Capitalize the first letter of each word\n",
    "  name = name.title()\n",
    "  # Print the output\n",
    "  print(f\"hello, {name}\")\n",
    "   ```\n",
    "\n",
    "- Notice that you can modify your code to be more efficient:\n",
    "    ```python\n",
    "    # Ask the user for their name\n",
    "    name = input(\"What's your name? \")\n",
    "    # Remove whitespace from the str and capitalize the first letter of each word\n",
    "    name = name.strip().title()\n",
    "    # Print the output\n",
    "    print(f\"hello, {name}\")\n",
    "    ```\n",
    "\n",
    "- We could even go further!\n",
    "  ```python\n",
    "  name = input(\"What's your name? \").strip().title()\n",
    "  # Print the output\n",
    "  print(f\"hello, {name}\")\n",
    "  ```\n"
   ]
  },
  {
   "cell_type": "code",
   "execution_count": 31,
   "metadata": {},
   "outputs": [
    {
     "name": "stdout",
     "output_type": "stream",
     "text": [
      "hello, qixin ma\n"
     ]
    }
   ],
   "source": [
    "name = input(\"What's your name? \")\n",
    "\n",
    "# Remove the leading and trailing whitespace from the str\n",
    "name = name.strip()\n",
    "\n",
    "name.replace()\n",
    "#汽车.发动\n",
    "# Print the output\n",
    "print(f\"hello, {name}\")"
   ]
  },
  {
   "cell_type": "code",
   "execution_count": 32,
   "metadata": {},
   "outputs": [
    {
     "name": "stdout",
     "output_type": "stream",
     "text": [
      "hello, QixinMa\n"
     ]
    }
   ],
   "source": [
    "name = input(\"What's your name? \")\n",
    "\n",
    "#replace(variable1, variable2)\n",
    "#variable1: exsting character going to be replaced\n",
    "#varaibale2 :  future character going to repqixlace \n",
    "#none/null \n",
    "name = name.replace(\" \", \"\")\n",
    "print(f\"hello, {name}\")"
   ]
  },
  {
   "cell_type": "code",
   "execution_count": 36,
   "metadata": {},
   "outputs": [
    {
     "name": "stdout",
     "output_type": "stream",
     "text": [
      "this is name1\n",
      "hello, Lixin\n",
      "This is name2 \n",
      "hello, Qixin\n"
     ]
    }
   ],
   "source": [
    "# Ask the user for their name\n",
    "name = input(\"What's your name? \")\n",
    "#qixin ma\n",
    "# Remove whitespace from the str and capitalize the first letter of each word\n",
    "#name = qixin\n",
    "#name.replace: qixin ->lixin\n",
    "#name.title: lixin -> Lixin\n",
    "name1 = name.replace(\"q\",\"l\").title()\n",
    "print(\"this is name1\")\n",
    "print(f\"hello, {name1}\")\n",
    "\n",
    "print(\"This is name2 \")\n",
    "name2 = name.title().replace(\"q\",\"l\")\n",
    "print(f\"hello, {name2}\")\n",
    "\n",
    "#name2.title: qixin -> Qixin\n",
    "#name2.replace: \n",
    "\n",
    "\n"
   ]
  },
  {
   "cell_type": "code",
   "execution_count": 15,
   "metadata": {},
   "outputs": [
    {
     "name": "stdout",
     "output_type": "stream",
     "text": [
      "hello, Qixin Ma\n"
     ]
    }
   ],
   "source": [
    "# Remove whitespace from the str and capitalize the first letter of each word\n",
    "\n",
    "name = input(\"What's your name? \").strip().title()\n",
    "print(f\"hello, {name}\")"
   ]
  },
  {
   "cell_type": "markdown",
   "metadata": {},
   "source": [
    "# Integers or int\n",
    "\n",
    "- In Python, an integer is referred to as an `int`.\n",
    "\n",
    "- In the world of mathematics, we are familiar with `+`, `-`, `*`, `/`, and `%` operators. That last operator `%` or modulo operator may not be very familiar to you.\n",
    "\n",
    "- You don’t have to use the text editor window in your compiler to run Python code. Down in your terminal, you can run `python` alone. You will be presented with `>>>` in the terminal window. You can then run live, interactive code. You could type `1+1`, and it will run that calculation. This mode will not commonly be used during this course.\n",
    "\n",
    "- Opening up VS Code again, we can type `code calculator.py` in the terminal. This will create a new file in which we will create our own calculator.\n",
    "\n",
    "- First, we can declare a few variables.\n",
    "  ```python\n",
    "    x = 1\n",
    "    y = 2\n",
    "    z = x + y\n",
    "\n",
    "    print(z)\n",
    "  ```\n",
    "Naturally, when we run python calculator.py we get the result in the terminal. We can make this more interactive using the input function.\n",
    "\n",
    "- Running this program, we discover that the output is incorrect as 12. Why might this be?\n",
    "\n",
    "- Prior, we have seen how the + sign concatenates two strings. Because your input from your keyboard on your computer comes into the compiler as text, it is treated as a string. We, therefore, need to convert this input from a string to an integer. We can do so as follows:\n",
    "\n",
    "  ```python\n",
    "    x = input(\"What's x? \")\n",
    "    y = input(\"What's y? \")\n",
    "\n",
    "    z = int(x) + int(y)\n",
    "\n",
    "    print(z)\n",
    "  ```\n",
    "\n",
    "The result is now correct. The use of int(x) is called “casting,” where a value is temporarily changed from one type of variable (in this case, a string) to another (here, an integer).\n",
    "\n",
    "- We can further improve our program as follows:\n",
    "   ```python\n",
    "   x = int(input(\"What's x? \"))\n",
    "   y = int(input(\"What's y? \"))\n",
    "\n",
    "   print(x + y)\n",
    "   ```\n",
    "This illustrates that you can run functions on functions. The inner function is run first, and then the outer one is run. First, the input function is run. Then, the int function."
   ]
  },
  {
   "cell_type": "code",
   "execution_count": 39,
   "metadata": {},
   "outputs": [
    {
     "name": "stdout",
     "output_type": "stream",
     "text": [
      "3\n"
     ]
    }
   ],
   "source": [
    "x = input(\"What's x? \")\n",
    "y = input(\"What's y? \")\n",
    "x = \"1\"\n",
    "y = \"2\"\n",
    "\n",
    "#cast\n",
    "#z = x + y\n",
    "\n",
    "z = int(x) + int(y)\n",
    "print(z)\n"
   ]
  },
  {
   "cell_type": "markdown",
   "metadata": {},
   "source": [
    "# Float Basics\n",
    "\n",
    "- A floating point value is a real number that has a decimal point in it, such as 0.52\n",
    "\n",
    "- You can change your code to support floats as follows:\n",
    "  ```python\n",
    "    x = float(input(\"What's x? \"))\n",
    "    y = float(input(\"What's y? \"))\n",
    "\n",
    "    print(x + y)\n",
    "  ```\n",
    "\n",
    "- Let’s imagine, however, that you want to round the total to the nearest integer. Looking at the Python documentation for round, you’ll see that the available arguments are round(number[n, ndigits]). Those square brackets indicate that something optional can be specified by the programmer. Therefore, you could do round(n) to round a digit to its nearest integer. Alternatively, you could code as follows:\n",
    "\n",
    ".\n",
    "\n",
    "- First, we can declare a few variables.\n",
    "  ```python\n",
    "   # Get the user's input\n",
    "    x = float(input(\"What's x? \"))\n",
    "    y = float(input(\"What's y? \"))\n",
    "\n",
    "    # Create a rounded result\n",
    "    z = round(x + y)\n",
    "\n",
    "    # Print the result\n",
    "    print(z)\n",
    "\n",
    "  ```\n",
    "- What if we wanted to format the output of long numbers? For example, rather than seeing 1000, you may wish to see 1,000. You could modify your code as follows:\n",
    "\n",
    "  ```python\n",
    "    # Get the user's input\n",
    "    x = float(input(\"What's x? \"))\n",
    "    y = float(input(\"What's y? \"))\n",
    "    \n",
    "    # Create a rounded result\n",
    "    z = round(x + y)\n",
    "    \n",
    "    # Print the formatted result\n",
    "    print(f\"{z:,}\")\n",
    "  ```\n"
   ]
  },
  {
   "cell_type": "code",
   "execution_count": null,
   "metadata": {},
   "outputs": [],
   "source": [
    "x = float(input(\"What's x? \"))\n",
    "y = float(input(\"What's y? \"))\n",
    "\n",
    "print(x + y)"
   ]
  },
  {
   "cell_type": "code",
   "execution_count": 43,
   "metadata": {},
   "outputs": [
    {
     "name": "stdout",
     "output_type": "stream",
     "text": [
      "3.7\n"
     ]
    }
   ],
   "source": [
    "x = input(\"What's x? \")\n",
    "y = input(\"What's y?\")\n",
    "x = float(x)\n",
    "y = float(y)\n",
    "z = x + y \n",
    "print(z)"
   ]
  },
  {
   "cell_type": "markdown",
   "metadata": {},
   "source": [
    "# More on Floats\n",
    "\n",
    "- How can we round floating point values? First, modify your code as follows:\n",
    "  ```python\n",
    "    # Get the user's input\n",
    "    x = float(input(\"What's x? \"))\n",
    "    y = float(input(\"What's y? \"))\n",
    "\n",
    "    # Calculate the result\n",
    "    z = x / y\n",
    "\n",
    "    # Print the result\n",
    "    print(z)\n",
    "  ```\n",
    "When inputting 2 as x and 3 as y, the result z is 0.6666666666, seemingly going on to infinite as we might expect."
   ]
  },
  {
   "cell_type": "markdown",
   "metadata": {},
   "source": [
    "- Let’s imagine that we want to round this down. We could modify our code as follows:\n",
    " ```python\n",
    "    # Get the user's input\n",
    "    x = float(input(\"What's x? \"))\n",
    "    y = float(input(\"What's y? \"))\n",
    "\n",
    "    # Calculate the result\n",
    "    z = x / y\n",
    "\n",
    "    # Print the result\n",
    "    print(z)\n",
    " ```\n",
    "As we might expect, this will round the result to the nearest two decimal points."
   ]
  },
  {
   "cell_type": "markdown",
   "metadata": {},
   "source": [
    "- We could also use fstring to format the output as follows:\n",
    " ```python\n",
    "    # Get the user's input\n",
    "    x = float(input(\"What's x? \"))\n",
    "    y = float(input(\"What's y? \"))\n",
    "    \n",
    "    # Calculate the result\n",
    "    z = x / y\n",
    "    \n",
    "    # Print the result\n",
    "    print(f\"{z:.2f}\")\n",
    " ```\n",
    ".2f is a formati specifier \n",
    "    . :  Indicates precision is being defined.\n",
    "    2 :  Specifies that the value should be rounded to 2 decimal places.\n",
    "    f :  Stands for \"fixed-point notation\" (i.e., it will display the number with a fixed number of decimal places)."
   ]
  },
  {
   "cell_type": "markdown",
   "metadata": {},
   "source": [
    "- You can change your code to support floats as follows:\n",
    "  ```python\n",
    "   # Get the user's input\n",
    "    x = float(input(\"What's x? \"))\n",
    "    y = float(input(\"What's y? \"))\n",
    "    \n",
    "    # Calculate the result\n",
    "    z = x / y\n",
    "    \n",
    "    # Print the result\n",
    "    print(f\"{z:.2f}\")\n",
    "  ```\n",
    "\n",
    "- .2f is a formati specifier \n",
    "    . :  Indicates precision is being defined.\n",
    "    2 :  Specifies that the value should be rounded to 2 decimal places.\n",
    "    f :  Stands for \"fixed-point notation\" (i.e., it will display the number with a fixed number of decimal places)."
   ]
  },
  {
   "cell_type": "code",
   "execution_count": 18,
   "metadata": {},
   "outputs": [
    {
     "name": "stdout",
     "output_type": "stream",
     "text": [
      " 0.67\n"
     ]
    }
   ],
   "source": [
    "x = 2\n",
    "y = 3\n",
    "z = x / y\n",
    "print(f\"{z : .2f}\")"
   ]
  },
  {
   "cell_type": "markdown",
   "metadata": {},
   "source": [
    "# Def\n",
    "- Wouldn’t it be nice to create our own functions?\n",
    "- Let’s bring back our final code of hello.py by typing code hello.py into the terminal window. Your starting code should look as follows:\n",
    "```python\n",
    "    # Ask the user for their name, remove whitespace from the str and capitalize the first letter of each word\n",
    "    name = input(\"What's your name? \").strip().title()\n",
    "    # Print the output\n",
    "    print(f\"hello, {name}\")\n",
    "```"
   ]
  },
  {
   "cell_type": "markdown",
   "metadata": {},
   "source": [
    "- Erasing all our code in our text editor, let’s start from scratch:\n",
    "  ```python\n",
    "    name = input(\"What's your name? \")\n",
    "    hello()\n",
    "    print(name)\n",
    "  ```\n",
    "\n",
    "- Attempting to run this code, your compiler will throw an error. After all, there is no defined function for hello."
   ]
  },
  {
   "cell_type": "markdown",
   "metadata": {},
   "source": [
    "- we can create our own function called hello as follow \n",
    "```python \n",
    "    def hello():\n",
    "    print(\"hello\")\n",
    "\n",
    "    name = input(\"What's your name? \")\n",
    "    hello()\n",
    "    print(name)\n",
    "```"
   ]
  },
  {
   "cell_type": "markdown",
   "metadata": {},
   "source": [
    "Notice that everything under def hello() is indented. Python is an indented language. It uses indentation to understand what is part of the above function. Therefore, everything in the hello function must be indented. When something is not indented, it treats it as if it is not inside the hello function. Running python hello.py in the terminal window, you’ll see that your output is not exactly as you may want"
   ]
  },
  {
   "cell_type": "markdown",
   "metadata": {},
   "source": [
    "- We can further improve our code \n",
    "\n",
    " ```python \n",
    " # Create our own function\n",
    "    def hello(to):\n",
    "         print(\"hello,\", to)\n",
    "    # utput using our own function\n",
    "    name = input(\"What's your name? \")\n",
    "    hello(name)\n",
    " ```"
   ]
  },
  {
   "cell_type": "markdown",
   "metadata": {},
   "source": [
    "Test out your code yourself. Notice how the first hello will behave as you might expect, and the second hello, which is not passed a value, will, by default, output hello, world."
   ]
  },
  {
   "cell_type": "markdown",
   "metadata": {},
   "source": [
    "- We don’t have to have our function at the start of our program. We can move it down, but we need to tell the compiler that we have a `main` function and a separate `hello` function.\n",
    "\n",
    "```python\n",
    "    def main():\n",
    "        # Output using our own function\n",
    "        name = input(\"What's your name? \")\n",
    "        hello(name)\n",
    "        # Output without passing the expected arguments\n",
    "        hello()\n",
    "    \n",
    "    # Create our own function\n",
    "    def hello(to=\"world\"):\n",
    "        print(\"hello,\", to)\n",
    "```"
   ]
  },
  {
   "cell_type": "markdown",
   "metadata": {},
   "source": [
    "This alone, however, will create an error of sorts. If we run python hello.py, nothing happens! The reason for this is that nothing in this code is actually calling the main function and bringing our program to life.\n",
    "\n",
    "- The following very small modification will call the main function and restore our program to working order:\n",
    "\n",
    "\n",
    "```python\n",
    "    def main():\n",
    "        # Output using our own function\n",
    "        name = input(\"What's your name? \")\n",
    "        hello(name)\n",
    "        # Output without passing the expected arguments\n",
    "        hello()\n",
    "\n",
    "    # Create our own function\n",
    "    def hello(to=\"world\"):\n",
    "        print(\"hello,\", to)\n",
    "\n",
    "    main()\n",
    "```"
   ]
  },
  {
   "cell_type": "markdown",
   "metadata": {},
   "source": [
    "# Returning Values\n",
    "\n",
    "- You can imagine many scenarios where you don’t just want a function to perform an action but also to return a value back to the main function. For example, rather than simply printing the calculation of `x + y`, you may want a function to return the value of this calculation back to another part of your program. This “passing back” of a value we call a `return` value.\n",
    "\n",
    "```python\n",
    "    def main():\n",
    "        x = int(input(\"What's x? \"))\n",
    "        print(\"x squared is\", square(x))\n",
    "    \n",
    "    def square(n):\n",
    "        return n * n\n",
    "    \n",
    "    def square(n):\n",
    "        result = n*n\n",
    "        return result \n",
    "        \n",
    "    main()\n",
    "```\n"
   ]
  },
  {
   "cell_type": "markdown",
   "metadata": {},
   "source": [
    "- method/function name \n",
    "- input of the function \n",
    "- body of the function: functionality/excution of the function\n",
    "- return: output/result of your body\n"
   ]
  },
  {
   "cell_type": "markdown",
   "metadata": {},
   "source": [
    "# Summing Up\n",
    "\n",
    "Through the work of this single lecture, you have learned abilities that you will use countless times in your own programs. You have learned about...\n",
    "\n",
    "- Creating your first programs in Python;\n",
    "- Functions;\n",
    "- Bugs;\n",
    "- Variables;\n",
    "- Comments;\n",
    "- Pseudocode;\n",
    "- Strings;\n",
    "- Parameters;\n",
    "- Formatted Strings;\n",
    "- Integers;\n",
    "- Floats;\n",
    "- Creating your own functions; and\n",
    "- Return values.\n"
   ]
  },
  {
   "cell_type": "code",
   "execution_count": 13,
   "metadata": {},
   "outputs": [
    {
     "data": {
      "text/plain": [
       "3"
      ]
     },
     "execution_count": 13,
     "metadata": {},
     "output_type": "execute_result"
    }
   ],
   "source": [
    "def addition(x,y):\n",
    "    sum = x + y\n",
    "    return sum \n",
    "\n",
    "addition(1,2)"
   ]
  }
 ],
 "metadata": {
  "kernelspec": {
   "display_name": "base",
   "language": "python",
   "name": "python3"
  },
  "language_info": {
   "codemirror_mode": {
    "name": "ipython",
    "version": 3
   },
   "file_extension": ".py",
   "mimetype": "text/x-python",
   "name": "python",
   "nbconvert_exporter": "python",
   "pygments_lexer": "ipython3",
   "version": "3.9.13"
  }
 },
 "nbformat": 4,
 "nbformat_minor": 2
}

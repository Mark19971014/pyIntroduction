{
 "cells": [
  {
   "cell_type": "markdown",
   "metadata": {},
   "source": [
    "# Lecture 2\n",
    "\n",
    "- [Loops](#Loops)\n",
    "- [While Loops](#While-Loops)\n",
    "- [For Loops](#For-Loops)\n",
    "- [More About List](#More-About-Lists)\n",
    "- [Dictionary](#Diectonaries)\n",
    "- [Length](#Length)\n",
    "- [Summing Up](#summing-up)"
   ]
  },
  {
   "cell_type": "markdown",
   "metadata": {},
   "source": [
    "# Loops\n",
    "\n",
    "- Essentially, loops are a way to do something over and over again.\n",
    "- Begin by typing `code cat.py` in the terminal window.\n",
    "- In the text editor, begin with the following code:\n",
    "\n",
    "```python\n",
    "  print(\"meow\")\n",
    "  print(\"meow\")\n",
    "  print(\"meow\")\n",
    "```\n",
    "\n",
    "- Running this code by typing python cat.py, you'll notice that the program meows three times.\n",
    "- In developing as a programmer, you want to consider how one could improve areas of one's code where one types the same thing over and over again. Imagine where one might want to “meow” 500 times. Would it be logical to type that same expression of print(\"meow\") over and over again?\n",
    "- Loops enable you to create a block of code that executes over and over again."
   ]
  },
  {
   "cell_type": "markdown",
   "metadata": {},
   "source": [
    "# While Loops\n",
    "\n",
    "- The `while` loop is nearly universal throughout all coding languages.\n",
    "- Such a loop will repeat a block of code over and over again.\n",
    "- In the text editor window, edit your code as follows:\n",
    "\n",
    "```python\n",
    "i = 3\n",
    "while i != 0:\n",
    "    print(\"meow\")\n",
    "```\n",
    "Notice how even though this code will execute print(\"meow\") multiple times, it will never stop! It will loop forever. while loops work by repeatedly asking if the condition of the loop has been fulfilled. In this case, the compiler is asking, “does i not equal zero?” When you get stuck in a loop that executes forever, you can press control-c on your keyboard to break out of the loop"
   ]
  },
  {
   "cell_type": "markdown",
   "metadata": {},
   "source": [
    "- To fix this loop that lasts forever, we can edit our code as follows\n",
    "```python\n",
    "i = 3\n",
    "while i != 0:\n",
    "  print(\"meow\")\n",
    "  i = i - 1\n",
    "```\n",
    "Notice that now our code executes properly, reducing i by 1 for each “iteration” through the loop. The term iteration has special significance within coding. By iteration, we mean one cycle through the loop. The first iteration is the “0th” iteration through the loop. The second is the “1st” iteration. In programming, we count starting with 0, then 1, then 2."
   ]
  },
  {
   "cell_type": "markdown",
   "metadata": {},
   "source": [
    "\n",
    "- We can further improve our code as follows\n",
    "```python\n",
    "i = 1\n",
    "  while i <= 3:\n",
    "      print(\"meow\")\n",
    "      i = i + 1\n",
    "```\n",
    "Notice that when we code i = i + 1 we assign the value of i from the right to the left. Above, we are starting i at one, like most humans count (1, 2, 3). If you execute the code above, you’ll see it meows three times. It’s best practice in programming to begin counting with ze\n"
   ]
  },
  {
   "cell_type": "markdown",
   "metadata": {},
   "source": [
    "- We can improve our code to start counting with zero:\n",
    "```python\n",
    "i = 0\n",
    "while i < 3:\n",
    "    print(\"meow\")\n",
    "    i += 1\n",
    "```\n",
    "Notice how changing the operator to i < 3 allows our code to function as intended. We begin by counting with 0 and it iterates through our loop three times, producing three meows. Also, notice how i += 1 is the same as saying i = i + 1.\n",
    "\n",
    "- Our code at this point is illustrated as follows:\n",
    "<img src=\"/Users/maqixin/Documents/MyWork/PyIntroduction/images/L301.png\" alt=\"Alt Text\" width=\"400\" height=\"500\">"
   ]
  },
  {
   "cell_type": "markdown",
   "metadata": {},
   "source": [
    "# For Loops\n",
    "- A `for` loop is a different type of loop.\n",
    "- To best understand a `for` loop, it’s best to begin by talking about a new variable type called a `list` in Python. As in other areas of our lives, we can have a grocery list, a to-do list, etc.\n",
    "- A `for` loop iterates through a `list` of items. For example, in the text editor window, modify your `cat.py` code as follows:\n",
    "```python\n",
    "for i in [0, 1, 2]:\n",
    "    print(\"meow\")\n",
    "```\n",
    "Notice how clean this code is compared to your previous while loop code. In this code, i begins with 0, meows, i is assigned 1, meows, and, finally, i is assigned 2, meows, and then ends."
   ]
  },
  {
   "cell_type": "markdown",
   "metadata": {},
   "source": [
    "- While this code accomplishes what we want, there are some possibilities for improving our code for extreme cases. At first glance, our code looks great. However, what if you wanted to iterate up to a million? It’s best to create code that can work with such extreme cases. Accordingly, we can improve our code as follows:\n",
    "```python\n",
    "for i in range(3):\n",
    "    print(\"meow\")\n",
    "```\n",
    "Notice how range(3) provides back three values (0, 1, and 2) automatically. This code will execute and produce the intended effect, meowing three times.\n",
    "\n"
   ]
  },
  {
   "cell_type": "markdown",
   "metadata": {},
   "source": [
    "- Our code can be further improved. Notice how we never use `i` explicitly in our code. That is, while Python needs the `i` as a place to store the number of the iteration of the loop, we never use it for any other purpose. In Python, if such a variable does not have any other significance in our code, we can simply represent this variable as a single underscore `_`. Therefore, you can modify your code as follows:\n",
    "\n",
    "```python\n",
    "for _ in range(3):\n",
    "    print(\"meow\")\n",
    "```\n",
    "- Notice how changing the `i` to` _` has zero impact on the functioning of our program."
   ]
  },
  {
   "cell_type": "markdown",
   "metadata": {},
   "source": [
    "- Our code can be further improved. To stretch your mind to the possibilities within Python, consider the following code:\n",
    "\n",
    "```python\n",
    "    print(\"meow\" * 3)\n",
    "```\n",
    "Notice how it will meow three times, but the program will produce `meowmeowmeow` as the result. Consider: How could you create a line break at the end of each meow?"
   ]
  },
  {
   "cell_type": "markdown",
   "metadata": {},
   "source": [
    "- Indeed, you can edit your code as follows:\n",
    "```python\n",
    "    print(\"meow\\n\" * 3, end=\"\")\n",
    "```\n",
    "Notice how this code produces three meows, each on a separate line. By adding `end=\"\"` and the `\\n` we tell the compiler to add a line break at the end of each meow."
   ]
  },
  {
   "cell_type": "markdown",
   "metadata": {},
   "source": [
    "# More About Lists \n",
    "- Consider the world of Hogwarts from the famed Harry Potter universe.\n",
    "- In the terminal, type code `hogwarts.py`.\n",
    "- In the text editor, code as follows:\n",
    "```python\n",
    "    students = [\"Hermoine\", \"Harry\", \"Ron\"]\n",
    "    print(students[0])\n",
    "    print(students[1])\n",
    "    print(students[2])\n",
    "```\n",
    "Notice how we have a `list` of students with their names as above. We then print the student who is at the 0th location, “Hermoine”. Each of the other students is printed as well."
   ]
  },
  {
   "cell_type": "markdown",
   "metadata": {},
   "source": [
    "- Just as we illustrated previously, we can use a loop to iterate over the list. You can improve your code as follows:\n",
    "```python\n",
    "   students = [\"Hermoine\", \"Harry\", \"Ron\"]\n",
    "\n",
    "    for student in students:\n",
    "        print(student)\n",
    "```\n",
    "Notice that for each `student` in the `students` list, it will print the student as intended. You might wonder why we did not use the`_` designation as discussed prior. We choose not to do this because `student` is explicitly used in our code."
   ]
  },
  {
   "cell_type": "markdown",
   "metadata": {},
   "source": [
    "# Length \n",
    "- We can utilize `len` as a way of checking the length of the `list` called `students`.\n",
    "- Imagine that you don’t simply want to print the name of the student but also their position in the list. To accomplish this, you can edit your code as follows:\n",
    "```python\n",
    "   students = [\"Hermoine\", \"Harry\", \"Ron\"]\n",
    "\n",
    "    for i in range(len(students)):\n",
    "        print(i + 1, students[i])\n",
    "```\n",
    "Notice how executing this code results in not only getting the position of each student plus one using `i + 1`, but also prints the name of each student. `len` allows you to dynamically see how long the list of the students is regardless of how much it grows."
   ]
  },
  {
   "cell_type": "markdown",
   "metadata": {},
   "source": [
    "# Diectonaries \n",
    "- `dicts` or dictionaries is a data structure that allows you to associate keys with values.\n",
    "- Where a `list` is a list of multiple values, a `dict` associates a key with a value.\n",
    "- Considering the houses of Hogwarts, we might assign specific students to specific houses.\n",
    "<img src=\"/Users/maqixin/Documents/MyWork/PyIntroduction/images/L302.png\" alt=\"Alt Text\" width=\"400\" height=\"100\">\n"
   ]
  },
  {
   "cell_type": "markdown",
   "metadata": {},
   "source": [
    "- We could use`lists` alone to accomplish this:\n",
    "```python\n",
    "students = [\"Hermoine\", \"Harry\", \"Ron\", \"Draco\"]\n",
    "houses = [\"Gryffindor\", \"Gryffindor\", \"Griffindor\", \"Slytherin\"]\n",
    "```\n",
    "Notice that we can promise that we will always keep these lists in order. The individual at the first position of`students` is associated with the house at the first position of the `houses` list, and so on. However, this can become quite cumbersome as our lists grow!"
   ]
  },
  {
   "cell_type": "markdown",
   "metadata": {},
   "source": [
    "- We can better our code using a `dict` as follows:\n",
    "```python\n",
    "students = {\n",
    "    \"Hermoine\": \"Gryffindor\",\n",
    "    \"Harry\": \"Gryffindor\",\n",
    "    \"Ron\": \"Gryffindor\",\n",
    "    \"Draco\": \"Slytherin\",\n",
    "}\n",
    "print(students[\"Hermoine\"])\n",
    "print(students[\"Harry\"])\n",
    "print(students[\"Ron\"])\n",
    "print(students[\"Draco\"])\n",
    "```\n",
    "Notice how we use `{}` curly braces to create a dictionary. Where lists use numbers to iterate through the `list`, dicts allow us to use words."
   ]
  },
  {
   "cell_type": "markdown",
   "metadata": {},
   "source": [
    "- We can improve our code as follows:\n",
    "```python\n",
    "students = {\n",
    "    \"Hermoine\": \"Gryffindor\",\n",
    "    \"Harry\": \"Gryffindor\",\n",
    "    \"Ron\": \"Gryffindor\",\n",
    "    \"Draco\": \"Slytherin\",\n",
    "}\n",
    "for student in students:\n",
    "    print(student)\n",
    "```\n",
    "Notice how, executing this code, the for loop will only iterate through all the keys, resulting in a list of the names of the students. How could we print out both values and keys?"
   ]
  },
  {
   "cell_type": "markdown",
   "metadata": {},
   "source": [
    "- Modify your code as follows: \n",
    "```python\n",
    "students = {\n",
    "    \"Hermoine\": \"Gryffindor\",\n",
    "    \"Harry\": \"Gryffindor\",\n",
    "    \"Ron\": \"Gryffindor\",\n",
    "    \"Draco\": \"Slytherin\",\n",
    "}\n",
    "for student in students:\n",
    "    print(student, students[student])\n",
    "```\n",
    "Notice how `students[student]` will go to each student’s key and find the value of their house. Execute your code, and you’ll notice how the output is a bit messy."
   ]
  },
  {
   "cell_type": "markdown",
   "metadata": {},
   "source": [
    "- We can clean up the print function by improving our code as follows:\n",
    "```python \n",
    "students = {\n",
    "    \"Hermoine\": \"Gryffindor\",\n",
    "    \"Harry\": \"Gryffindor\",\n",
    "    \"Ron\": \"Gryffindor\",\n",
    "    \"Draco\": \"Slytherin\",\n",
    "}\n",
    "for student in students:\n",
    "    print(student, students[student], sep=\", \")\n",
    "```\n",
    "Notice how this creates a clean separation of a `,` between each item printed."
   ]
  },
  {
   "cell_type": "markdown",
   "metadata": {},
   "source": [
    "- \n",
    "What if we have more information about our students? How could we associate more data with each of the students?\n",
    "\n",
    "<img src=\"/Users/maqixin/Documents/MyWork/PyIntroduction/images/L303.png\" alt=\"Alt Text\" width=\"600\" height=\"300\">"
   ]
  },
  {
   "cell_type": "markdown",
   "metadata": {},
   "source": [
    "-  You can imagine wanting to have lots of data associated with multiple keys. Enhance your code as follows:\n",
    "```python \n",
    "students = [\n",
    "    {\"name\": \"Hermoine\", \"house\": \"Gryffindor\", \"patronus\": \"Otter\"},\n",
    "    {\"name\": \"Harry\", \"house\": \"Gryffindor\", \"patronus\": \"Stag\"},\n",
    "    {\"name\": \"Ron\", \"house\": \"Gryffindor\", \"patronus\": \"Jack Russell terrier\"},\n",
    "    {\"name\": \"Draco\", \"house\": \"Slytherin\", \"patronus\": None},\n",
    "]\n",
    "\n",
    "```\n",
    "Notice how this code creates a `list` of `dicts`. The `list` called students has four `dicts` within it: One for each student. Also, notice that Python has a special None designation where there is no value associated with a key.\n",
    "- Now, you have access to a whole host of interesting data about these students. Now, further modify your code as follows:\n",
    "\n",
    "```python \n",
    "students = [\n",
    "    {\"name\": \"Hermoine\", \"house\": \"Gryffindor\", \"patronus\": \"Otter\"},\n",
    "    {\"name\": \"Harry\", \"house\": \"Gryffindor\", \"patronus\": \"Stag\"},\n",
    "    {\"name\": \"Ron\", \"house\": \"Gryffindor\", \"patronus\": \"Jack Russell terrier\"},\n",
    "    {\"name\": \"Draco\", \"house\": \"Slytherin\", \"patronus\": None},\n",
    "]\n",
    "\n",
    "for student in students:\n",
    "    print(student[\"name\"], student[\"house\"], student[\"patronus\"], sep=\", \")\n",
    "```\n",
    "\n",
    "Notice how the `for` loop will iterate through each of the `dicts` inside the `list` called students."
   ]
  },
  {
   "cell_type": "markdown",
   "metadata": {},
   "source": [
    "# Summing Up\n",
    "\n",
    "You now have another power in your growing list of your Python abilities. In this lecture, we addressed...\n",
    "\n",
    "- Loops\n",
    "  - `while`\n",
    "  - `for`\n",
    "  - `len`\n",
    "  - `list`\n",
    "  - `dict`\n"
   ]
  }
 ],
 "metadata": {
  "language_info": {
   "name": "python"
  }
 },
 "nbformat": 4,
 "nbformat_minor": 2
}

{
 "cells": [
  {
   "cell_type": "code",
   "execution_count": null,
   "metadata": {},
   "outputs": [],
   "source": [
    "class Residence:\n",
    "    def __init__(self, number: int, size: float, type: str):\n",
    "        self.number = number\n",
    "        self.size = size\n",
    "        self.type = type  \n",
    "\n",
    "    def get_number(self) : \n",
    "        return self.number\n",
    "\n",
    "    def get_size(self)  :\n",
    "        return self.size\n",
    "\n",
    "    def get_type(self) : \n",
    "        return self.type\n",
    "\n",
    "    def rent_to(self, tenant, rented_from):\n",
    "        self.tenant = tenant\n",
    "        tenant.set_rented_from(rented_from)\n",
    "\n",
    "    def get_tenant(self):\n",
    "        return self.tenant\n",
    "\n",
    "    def get_number_of_rooms(self) :\n",
    "        return ()"
   ]
  }
 ],
 "metadata": {
  "language_info": {
   "name": "python"
  }
 },
 "nbformat": 4,
 "nbformat_minor": 2
}

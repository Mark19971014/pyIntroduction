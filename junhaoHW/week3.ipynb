{
 "cells": [
  {
   "cell_type": "code",
   "execution_count": 1,
   "metadata": {},
   "outputs": [
    {
     "name": "stdout",
     "output_type": "stream",
     "text": [
      "Haalnd\n",
      "Rodri\n",
      "Bellingham\n",
      "Palmer\n"
     ]
    }
   ],
   "source": [
    "#loops\n",
    "players = [\"Haalnd\", \"Rodri\", \"Bellingham\", \"Palmer\"]\n",
    "print(players[0])\n",
    "print(players[1])\n",
    "print(players[2])\n",
    "print(players[3])\n"
   ]
  },
  {
   "cell_type": "code",
   "execution_count": 8,
   "metadata": {},
   "outputs": [
    {
     "name": "stdout",
     "output_type": "stream",
     "text": [
      "goal\n",
      "goal\n",
      "goal\n",
      "goal\n",
      "goal\n",
      "goal\n",
      "goal\n",
      "goal\n",
      "goal\n",
      "goal\n",
      "goal\n",
      "goal\n"
     ]
    }
   ],
   "source": [
    "for a in range(3):\n",
    "#this print is inside for-loop\n",
    "    print(\"goal\")\n",
    "#this print is out of for-loop\n",
    "    print(\"goal\\n\"*3, end=\"\" )\n"
   ]
  },
  {
   "cell_type": "code",
   "execution_count": 7,
   "metadata": {},
   "outputs": [
    {
     "name": "stdout",
     "output_type": "stream",
     "text": [
      "a\n",
      "b\n",
      "c\n"
     ]
    }
   ],
   "source": [
    "\n",
    "    \n",
    "\n"
   ]
  }
 ],
 "metadata": {
  "kernelspec": {
   "display_name": "Python 3",
   "language": "python",
   "name": "python3"
  },
  "language_info": {
   "codemirror_mode": {
    "name": "ipython",
    "version": 3
   },
   "file_extension": ".py",
   "mimetype": "text/x-python",
   "name": "python",
   "nbconvert_exporter": "python",
   "pygments_lexer": "ipython3",
   "version": "3.13.0"
  }
 },
 "nbformat": 4,
 "nbformat_minor": 2
}

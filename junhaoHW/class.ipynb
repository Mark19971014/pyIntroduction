{
 "cells": [
  {
   "cell_type": "code",
   "execution_count": null,
   "metadata": {},
   "outputs": [],
   "source": [
    "class Players:\n",
    "    def __init__(player, name):\n",
    "        player.set_name(name)\n",
    "\n",
    "    def get_name(palyer):\n",
    "        return player._name\n",
    "    \n",
    "    "
   ]
  },
  {
   "cell_type": "code",
   "execution_count": 2,
   "metadata": {},
   "outputs": [
    {
     "name": "stdout",
     "output_type": "stream",
     "text": [
      "Kaka\n",
      "Haaland\n"
     ]
    }
   ],
   "source": [
    "class Players:\n",
    "    def __init__(self, name):\n",
    "        self.set_name(name)\n",
    "\n",
    "    def set_name(self, name):\n",
    "        self._name = name\n",
    "        if not name:\n",
    "            raise ValueError(\"We cannot find this player.\")\n",
    "\n",
    "    def get_name(self):\n",
    "        return self._name\n",
    "player = Players(\"Kaka\")\n",
    "print(player.get_name())\n",
    "player.set_name(\"Haaland\")\n",
    "print(player.get_name())"
   ]
  }
 ],
 "metadata": {
  "kernelspec": {
   "display_name": "Python 3",
   "language": "python",
   "name": "python3"
  },
  "language_info": {
   "codemirror_mode": {
    "name": "ipython",
    "version": 3
   },
   "file_extension": ".py",
   "mimetype": "text/x-python",
   "name": "python",
   "nbconvert_exporter": "python",
   "pygments_lexer": "ipython3",
   "version": "3.13.0"
  }
 },
 "nbformat": 4,
 "nbformat_minor": 2
}
